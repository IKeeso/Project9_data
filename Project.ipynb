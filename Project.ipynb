{
  "nbformat": 4,
  "nbformat_minor": 0,
  "metadata": {
    "colab": {
      "provenance": [],
      "authorship_tag": "ABX9TyP0xrLo0HnKjywdVIkFj0H8",
      "include_colab_link": true
    },
    "kernelspec": {
      "name": "python3",
      "display_name": "Python 3"
    },
    "language_info": {
      "name": "python"
    },
    "widgets": {
      "application/vnd.jupyter.widget-state+json": {
        "e34f28224a594cc8bc2f9deccbd2f406": {
          "model_module": "@jupyter-widgets/controls",
          "model_name": "HBoxModel",
          "model_module_version": "1.5.0",
          "state": {
            "_dom_classes": [],
            "_model_module": "@jupyter-widgets/controls",
            "_model_module_version": "1.5.0",
            "_model_name": "HBoxModel",
            "_view_count": null,
            "_view_module": "@jupyter-widgets/controls",
            "_view_module_version": "1.5.0",
            "_view_name": "HBoxView",
            "box_style": "",
            "children": [
              "IPY_MODEL_e7f04645ef8f43ca9f96ac05fe3b7afe",
              "IPY_MODEL_2600824330564b92beffb0d50c859b0b",
              "IPY_MODEL_a6114daeb41b4654b5ce07304fe7ff9b"
            ],
            "layout": "IPY_MODEL_4d88d4fdf3514c4cb2ee3cf69fb7f724"
          }
        },
        "e7f04645ef8f43ca9f96ac05fe3b7afe": {
          "model_module": "@jupyter-widgets/controls",
          "model_name": "HTMLModel",
          "model_module_version": "1.5.0",
          "state": {
            "_dom_classes": [],
            "_model_module": "@jupyter-widgets/controls",
            "_model_module_version": "1.5.0",
            "_model_name": "HTMLModel",
            "_view_count": null,
            "_view_module": "@jupyter-widgets/controls",
            "_view_module_version": "1.5.0",
            "_view_name": "HTMLView",
            "description": "",
            "description_tooltip": null,
            "layout": "IPY_MODEL_793beb8c04a540c89a761be484647847",
            "placeholder": "​",
            "style": "IPY_MODEL_e2ae563e6c3749fa92818342b8b55fe5",
            "value": "Downloading https://raw.githubusercontent.com/stanfordnlp/stanza-resources/main/resources_1.8.0.json: "
          }
        },
        "2600824330564b92beffb0d50c859b0b": {
          "model_module": "@jupyter-widgets/controls",
          "model_name": "FloatProgressModel",
          "model_module_version": "1.5.0",
          "state": {
            "_dom_classes": [],
            "_model_module": "@jupyter-widgets/controls",
            "_model_module_version": "1.5.0",
            "_model_name": "FloatProgressModel",
            "_view_count": null,
            "_view_module": "@jupyter-widgets/controls",
            "_view_module_version": "1.5.0",
            "_view_name": "ProgressView",
            "bar_style": "success",
            "description": "",
            "description_tooltip": null,
            "layout": "IPY_MODEL_5511ddf752944fabbf87d77656051ebe",
            "max": 47208,
            "min": 0,
            "orientation": "horizontal",
            "style": "IPY_MODEL_df33c6bb9cb24bd897629c476882d7d6",
            "value": 47208
          }
        },
        "a6114daeb41b4654b5ce07304fe7ff9b": {
          "model_module": "@jupyter-widgets/controls",
          "model_name": "HTMLModel",
          "model_module_version": "1.5.0",
          "state": {
            "_dom_classes": [],
            "_model_module": "@jupyter-widgets/controls",
            "_model_module_version": "1.5.0",
            "_model_name": "HTMLModel",
            "_view_count": null,
            "_view_module": "@jupyter-widgets/controls",
            "_view_module_version": "1.5.0",
            "_view_name": "HTMLView",
            "description": "",
            "description_tooltip": null,
            "layout": "IPY_MODEL_c5e6f8a9a6bb41849618855618faf48a",
            "placeholder": "​",
            "style": "IPY_MODEL_c628da2586ad4f9aad3e3859d886e77f",
            "value": " 379k/? [00:00&lt;00:00, 4.97MB/s]"
          }
        },
        "4d88d4fdf3514c4cb2ee3cf69fb7f724": {
          "model_module": "@jupyter-widgets/base",
          "model_name": "LayoutModel",
          "model_module_version": "1.2.0",
          "state": {
            "_model_module": "@jupyter-widgets/base",
            "_model_module_version": "1.2.0",
            "_model_name": "LayoutModel",
            "_view_count": null,
            "_view_module": "@jupyter-widgets/base",
            "_view_module_version": "1.2.0",
            "_view_name": "LayoutView",
            "align_content": null,
            "align_items": null,
            "align_self": null,
            "border": null,
            "bottom": null,
            "display": null,
            "flex": null,
            "flex_flow": null,
            "grid_area": null,
            "grid_auto_columns": null,
            "grid_auto_flow": null,
            "grid_auto_rows": null,
            "grid_column": null,
            "grid_gap": null,
            "grid_row": null,
            "grid_template_areas": null,
            "grid_template_columns": null,
            "grid_template_rows": null,
            "height": null,
            "justify_content": null,
            "justify_items": null,
            "left": null,
            "margin": null,
            "max_height": null,
            "max_width": null,
            "min_height": null,
            "min_width": null,
            "object_fit": null,
            "object_position": null,
            "order": null,
            "overflow": null,
            "overflow_x": null,
            "overflow_y": null,
            "padding": null,
            "right": null,
            "top": null,
            "visibility": null,
            "width": null
          }
        },
        "793beb8c04a540c89a761be484647847": {
          "model_module": "@jupyter-widgets/base",
          "model_name": "LayoutModel",
          "model_module_version": "1.2.0",
          "state": {
            "_model_module": "@jupyter-widgets/base",
            "_model_module_version": "1.2.0",
            "_model_name": "LayoutModel",
            "_view_count": null,
            "_view_module": "@jupyter-widgets/base",
            "_view_module_version": "1.2.0",
            "_view_name": "LayoutView",
            "align_content": null,
            "align_items": null,
            "align_self": null,
            "border": null,
            "bottom": null,
            "display": null,
            "flex": null,
            "flex_flow": null,
            "grid_area": null,
            "grid_auto_columns": null,
            "grid_auto_flow": null,
            "grid_auto_rows": null,
            "grid_column": null,
            "grid_gap": null,
            "grid_row": null,
            "grid_template_areas": null,
            "grid_template_columns": null,
            "grid_template_rows": null,
            "height": null,
            "justify_content": null,
            "justify_items": null,
            "left": null,
            "margin": null,
            "max_height": null,
            "max_width": null,
            "min_height": null,
            "min_width": null,
            "object_fit": null,
            "object_position": null,
            "order": null,
            "overflow": null,
            "overflow_x": null,
            "overflow_y": null,
            "padding": null,
            "right": null,
            "top": null,
            "visibility": null,
            "width": null
          }
        },
        "e2ae563e6c3749fa92818342b8b55fe5": {
          "model_module": "@jupyter-widgets/controls",
          "model_name": "DescriptionStyleModel",
          "model_module_version": "1.5.0",
          "state": {
            "_model_module": "@jupyter-widgets/controls",
            "_model_module_version": "1.5.0",
            "_model_name": "DescriptionStyleModel",
            "_view_count": null,
            "_view_module": "@jupyter-widgets/base",
            "_view_module_version": "1.2.0",
            "_view_name": "StyleView",
            "description_width": ""
          }
        },
        "5511ddf752944fabbf87d77656051ebe": {
          "model_module": "@jupyter-widgets/base",
          "model_name": "LayoutModel",
          "model_module_version": "1.2.0",
          "state": {
            "_model_module": "@jupyter-widgets/base",
            "_model_module_version": "1.2.0",
            "_model_name": "LayoutModel",
            "_view_count": null,
            "_view_module": "@jupyter-widgets/base",
            "_view_module_version": "1.2.0",
            "_view_name": "LayoutView",
            "align_content": null,
            "align_items": null,
            "align_self": null,
            "border": null,
            "bottom": null,
            "display": null,
            "flex": null,
            "flex_flow": null,
            "grid_area": null,
            "grid_auto_columns": null,
            "grid_auto_flow": null,
            "grid_auto_rows": null,
            "grid_column": null,
            "grid_gap": null,
            "grid_row": null,
            "grid_template_areas": null,
            "grid_template_columns": null,
            "grid_template_rows": null,
            "height": null,
            "justify_content": null,
            "justify_items": null,
            "left": null,
            "margin": null,
            "max_height": null,
            "max_width": null,
            "min_height": null,
            "min_width": null,
            "object_fit": null,
            "object_position": null,
            "order": null,
            "overflow": null,
            "overflow_x": null,
            "overflow_y": null,
            "padding": null,
            "right": null,
            "top": null,
            "visibility": null,
            "width": null
          }
        },
        "df33c6bb9cb24bd897629c476882d7d6": {
          "model_module": "@jupyter-widgets/controls",
          "model_name": "ProgressStyleModel",
          "model_module_version": "1.5.0",
          "state": {
            "_model_module": "@jupyter-widgets/controls",
            "_model_module_version": "1.5.0",
            "_model_name": "ProgressStyleModel",
            "_view_count": null,
            "_view_module": "@jupyter-widgets/base",
            "_view_module_version": "1.2.0",
            "_view_name": "StyleView",
            "bar_color": null,
            "description_width": ""
          }
        },
        "c5e6f8a9a6bb41849618855618faf48a": {
          "model_module": "@jupyter-widgets/base",
          "model_name": "LayoutModel",
          "model_module_version": "1.2.0",
          "state": {
            "_model_module": "@jupyter-widgets/base",
            "_model_module_version": "1.2.0",
            "_model_name": "LayoutModel",
            "_view_count": null,
            "_view_module": "@jupyter-widgets/base",
            "_view_module_version": "1.2.0",
            "_view_name": "LayoutView",
            "align_content": null,
            "align_items": null,
            "align_self": null,
            "border": null,
            "bottom": null,
            "display": null,
            "flex": null,
            "flex_flow": null,
            "grid_area": null,
            "grid_auto_columns": null,
            "grid_auto_flow": null,
            "grid_auto_rows": null,
            "grid_column": null,
            "grid_gap": null,
            "grid_row": null,
            "grid_template_areas": null,
            "grid_template_columns": null,
            "grid_template_rows": null,
            "height": null,
            "justify_content": null,
            "justify_items": null,
            "left": null,
            "margin": null,
            "max_height": null,
            "max_width": null,
            "min_height": null,
            "min_width": null,
            "object_fit": null,
            "object_position": null,
            "order": null,
            "overflow": null,
            "overflow_x": null,
            "overflow_y": null,
            "padding": null,
            "right": null,
            "top": null,
            "visibility": null,
            "width": null
          }
        },
        "c628da2586ad4f9aad3e3859d886e77f": {
          "model_module": "@jupyter-widgets/controls",
          "model_name": "DescriptionStyleModel",
          "model_module_version": "1.5.0",
          "state": {
            "_model_module": "@jupyter-widgets/controls",
            "_model_module_version": "1.5.0",
            "_model_name": "DescriptionStyleModel",
            "_view_count": null,
            "_view_module": "@jupyter-widgets/base",
            "_view_module_version": "1.2.0",
            "_view_name": "StyleView",
            "description_width": ""
          }
        },
        "4a6c518288994544b90554f04a6fd6ff": {
          "model_module": "@jupyter-widgets/controls",
          "model_name": "HBoxModel",
          "model_module_version": "1.5.0",
          "state": {
            "_dom_classes": [],
            "_model_module": "@jupyter-widgets/controls",
            "_model_module_version": "1.5.0",
            "_model_name": "HBoxModel",
            "_view_count": null,
            "_view_module": "@jupyter-widgets/controls",
            "_view_module_version": "1.5.0",
            "_view_name": "HBoxView",
            "box_style": "",
            "children": [
              "IPY_MODEL_66e710702a604d05a80b0b891b245a45",
              "IPY_MODEL_62744ba16af145b8ba9cad2871b24779",
              "IPY_MODEL_c9c0ba2972e94f2c885f1ddab33b0c7d"
            ],
            "layout": "IPY_MODEL_60b0b08e32a84f46a9e68357b04371b3"
          }
        },
        "66e710702a604d05a80b0b891b245a45": {
          "model_module": "@jupyter-widgets/controls",
          "model_name": "HTMLModel",
          "model_module_version": "1.5.0",
          "state": {
            "_dom_classes": [],
            "_model_module": "@jupyter-widgets/controls",
            "_model_module_version": "1.5.0",
            "_model_name": "HTMLModel",
            "_view_count": null,
            "_view_module": "@jupyter-widgets/controls",
            "_view_module_version": "1.5.0",
            "_view_name": "HTMLView",
            "description": "",
            "description_tooltip": null,
            "layout": "IPY_MODEL_8eb11d0e662141fb88363dc6eed17554",
            "placeholder": "​",
            "style": "IPY_MODEL_8e50e79cd55b449ebfba3f95895bcb5a",
            "value": "Downloading https://huggingface.co/stanfordnlp/stanza-sv/resolve/v1.8.0/models/default.zip: 100%"
          }
        },
        "62744ba16af145b8ba9cad2871b24779": {
          "model_module": "@jupyter-widgets/controls",
          "model_name": "FloatProgressModel",
          "model_module_version": "1.5.0",
          "state": {
            "_dom_classes": [],
            "_model_module": "@jupyter-widgets/controls",
            "_model_module_version": "1.5.0",
            "_model_name": "FloatProgressModel",
            "_view_count": null,
            "_view_module": "@jupyter-widgets/controls",
            "_view_module_version": "1.5.0",
            "_view_name": "ProgressView",
            "bar_style": "success",
            "description": "",
            "description_tooltip": null,
            "layout": "IPY_MODEL_e9731a5f98364363bd5afa1c1f030572",
            "max": 344695664,
            "min": 0,
            "orientation": "horizontal",
            "style": "IPY_MODEL_98fed7aeb4314341a00a20858d891860",
            "value": 344695664
          }
        },
        "c9c0ba2972e94f2c885f1ddab33b0c7d": {
          "model_module": "@jupyter-widgets/controls",
          "model_name": "HTMLModel",
          "model_module_version": "1.5.0",
          "state": {
            "_dom_classes": [],
            "_model_module": "@jupyter-widgets/controls",
            "_model_module_version": "1.5.0",
            "_model_name": "HTMLModel",
            "_view_count": null,
            "_view_module": "@jupyter-widgets/controls",
            "_view_module_version": "1.5.0",
            "_view_name": "HTMLView",
            "description": "",
            "description_tooltip": null,
            "layout": "IPY_MODEL_c389bf8edb5445d9a839cecae59a641d",
            "placeholder": "​",
            "style": "IPY_MODEL_58a77ff95aa44d9983603c23400cf94e",
            "value": " 345M/345M [00:08&lt;00:00, 45.8MB/s]"
          }
        },
        "60b0b08e32a84f46a9e68357b04371b3": {
          "model_module": "@jupyter-widgets/base",
          "model_name": "LayoutModel",
          "model_module_version": "1.2.0",
          "state": {
            "_model_module": "@jupyter-widgets/base",
            "_model_module_version": "1.2.0",
            "_model_name": "LayoutModel",
            "_view_count": null,
            "_view_module": "@jupyter-widgets/base",
            "_view_module_version": "1.2.0",
            "_view_name": "LayoutView",
            "align_content": null,
            "align_items": null,
            "align_self": null,
            "border": null,
            "bottom": null,
            "display": null,
            "flex": null,
            "flex_flow": null,
            "grid_area": null,
            "grid_auto_columns": null,
            "grid_auto_flow": null,
            "grid_auto_rows": null,
            "grid_column": null,
            "grid_gap": null,
            "grid_row": null,
            "grid_template_areas": null,
            "grid_template_columns": null,
            "grid_template_rows": null,
            "height": null,
            "justify_content": null,
            "justify_items": null,
            "left": null,
            "margin": null,
            "max_height": null,
            "max_width": null,
            "min_height": null,
            "min_width": null,
            "object_fit": null,
            "object_position": null,
            "order": null,
            "overflow": null,
            "overflow_x": null,
            "overflow_y": null,
            "padding": null,
            "right": null,
            "top": null,
            "visibility": null,
            "width": null
          }
        },
        "8eb11d0e662141fb88363dc6eed17554": {
          "model_module": "@jupyter-widgets/base",
          "model_name": "LayoutModel",
          "model_module_version": "1.2.0",
          "state": {
            "_model_module": "@jupyter-widgets/base",
            "_model_module_version": "1.2.0",
            "_model_name": "LayoutModel",
            "_view_count": null,
            "_view_module": "@jupyter-widgets/base",
            "_view_module_version": "1.2.0",
            "_view_name": "LayoutView",
            "align_content": null,
            "align_items": null,
            "align_self": null,
            "border": null,
            "bottom": null,
            "display": null,
            "flex": null,
            "flex_flow": null,
            "grid_area": null,
            "grid_auto_columns": null,
            "grid_auto_flow": null,
            "grid_auto_rows": null,
            "grid_column": null,
            "grid_gap": null,
            "grid_row": null,
            "grid_template_areas": null,
            "grid_template_columns": null,
            "grid_template_rows": null,
            "height": null,
            "justify_content": null,
            "justify_items": null,
            "left": null,
            "margin": null,
            "max_height": null,
            "max_width": null,
            "min_height": null,
            "min_width": null,
            "object_fit": null,
            "object_position": null,
            "order": null,
            "overflow": null,
            "overflow_x": null,
            "overflow_y": null,
            "padding": null,
            "right": null,
            "top": null,
            "visibility": null,
            "width": null
          }
        },
        "8e50e79cd55b449ebfba3f95895bcb5a": {
          "model_module": "@jupyter-widgets/controls",
          "model_name": "DescriptionStyleModel",
          "model_module_version": "1.5.0",
          "state": {
            "_model_module": "@jupyter-widgets/controls",
            "_model_module_version": "1.5.0",
            "_model_name": "DescriptionStyleModel",
            "_view_count": null,
            "_view_module": "@jupyter-widgets/base",
            "_view_module_version": "1.2.0",
            "_view_name": "StyleView",
            "description_width": ""
          }
        },
        "e9731a5f98364363bd5afa1c1f030572": {
          "model_module": "@jupyter-widgets/base",
          "model_name": "LayoutModel",
          "model_module_version": "1.2.0",
          "state": {
            "_model_module": "@jupyter-widgets/base",
            "_model_module_version": "1.2.0",
            "_model_name": "LayoutModel",
            "_view_count": null,
            "_view_module": "@jupyter-widgets/base",
            "_view_module_version": "1.2.0",
            "_view_name": "LayoutView",
            "align_content": null,
            "align_items": null,
            "align_self": null,
            "border": null,
            "bottom": null,
            "display": null,
            "flex": null,
            "flex_flow": null,
            "grid_area": null,
            "grid_auto_columns": null,
            "grid_auto_flow": null,
            "grid_auto_rows": null,
            "grid_column": null,
            "grid_gap": null,
            "grid_row": null,
            "grid_template_areas": null,
            "grid_template_columns": null,
            "grid_template_rows": null,
            "height": null,
            "justify_content": null,
            "justify_items": null,
            "left": null,
            "margin": null,
            "max_height": null,
            "max_width": null,
            "min_height": null,
            "min_width": null,
            "object_fit": null,
            "object_position": null,
            "order": null,
            "overflow": null,
            "overflow_x": null,
            "overflow_y": null,
            "padding": null,
            "right": null,
            "top": null,
            "visibility": null,
            "width": null
          }
        },
        "98fed7aeb4314341a00a20858d891860": {
          "model_module": "@jupyter-widgets/controls",
          "model_name": "ProgressStyleModel",
          "model_module_version": "1.5.0",
          "state": {
            "_model_module": "@jupyter-widgets/controls",
            "_model_module_version": "1.5.0",
            "_model_name": "ProgressStyleModel",
            "_view_count": null,
            "_view_module": "@jupyter-widgets/base",
            "_view_module_version": "1.2.0",
            "_view_name": "StyleView",
            "bar_color": null,
            "description_width": ""
          }
        },
        "c389bf8edb5445d9a839cecae59a641d": {
          "model_module": "@jupyter-widgets/base",
          "model_name": "LayoutModel",
          "model_module_version": "1.2.0",
          "state": {
            "_model_module": "@jupyter-widgets/base",
            "_model_module_version": "1.2.0",
            "_model_name": "LayoutModel",
            "_view_count": null,
            "_view_module": "@jupyter-widgets/base",
            "_view_module_version": "1.2.0",
            "_view_name": "LayoutView",
            "align_content": null,
            "align_items": null,
            "align_self": null,
            "border": null,
            "bottom": null,
            "display": null,
            "flex": null,
            "flex_flow": null,
            "grid_area": null,
            "grid_auto_columns": null,
            "grid_auto_flow": null,
            "grid_auto_rows": null,
            "grid_column": null,
            "grid_gap": null,
            "grid_row": null,
            "grid_template_areas": null,
            "grid_template_columns": null,
            "grid_template_rows": null,
            "height": null,
            "justify_content": null,
            "justify_items": null,
            "left": null,
            "margin": null,
            "max_height": null,
            "max_width": null,
            "min_height": null,
            "min_width": null,
            "object_fit": null,
            "object_position": null,
            "order": null,
            "overflow": null,
            "overflow_x": null,
            "overflow_y": null,
            "padding": null,
            "right": null,
            "top": null,
            "visibility": null,
            "width": null
          }
        },
        "58a77ff95aa44d9983603c23400cf94e": {
          "model_module": "@jupyter-widgets/controls",
          "model_name": "DescriptionStyleModel",
          "model_module_version": "1.5.0",
          "state": {
            "_model_module": "@jupyter-widgets/controls",
            "_model_module_version": "1.5.0",
            "_model_name": "DescriptionStyleModel",
            "_view_count": null,
            "_view_module": "@jupyter-widgets/base",
            "_view_module_version": "1.2.0",
            "_view_name": "StyleView",
            "description_width": ""
          }
        },
        "6658baa5500547a6b188d1b8692b32cc": {
          "model_module": "@jupyter-widgets/controls",
          "model_name": "HBoxModel",
          "model_module_version": "1.5.0",
          "state": {
            "_dom_classes": [],
            "_model_module": "@jupyter-widgets/controls",
            "_model_module_version": "1.5.0",
            "_model_name": "HBoxModel",
            "_view_count": null,
            "_view_module": "@jupyter-widgets/controls",
            "_view_module_version": "1.5.0",
            "_view_name": "HBoxView",
            "box_style": "",
            "children": [
              "IPY_MODEL_9e9cb893005c41739bb3ee2929582188",
              "IPY_MODEL_18313a4a812d4660ba0280127d87b0b4",
              "IPY_MODEL_b14de616c3ef4234beb5cecb7ae42d27"
            ],
            "layout": "IPY_MODEL_259ea92ffcd542b3b83814b6a417a251"
          }
        },
        "9e9cb893005c41739bb3ee2929582188": {
          "model_module": "@jupyter-widgets/controls",
          "model_name": "HTMLModel",
          "model_module_version": "1.5.0",
          "state": {
            "_dom_classes": [],
            "_model_module": "@jupyter-widgets/controls",
            "_model_module_version": "1.5.0",
            "_model_name": "HTMLModel",
            "_view_count": null,
            "_view_module": "@jupyter-widgets/controls",
            "_view_module_version": "1.5.0",
            "_view_name": "HTMLView",
            "description": "",
            "description_tooltip": null,
            "layout": "IPY_MODEL_3f7cbe4a3f38412189d3c810858c7410",
            "placeholder": "​",
            "style": "IPY_MODEL_1009550b0c684cadb731581bf6bb15d4",
            "value": "Downloading https://raw.githubusercontent.com/stanfordnlp/stanza-resources/main/resources_1.8.0.json: "
          }
        },
        "18313a4a812d4660ba0280127d87b0b4": {
          "model_module": "@jupyter-widgets/controls",
          "model_name": "FloatProgressModel",
          "model_module_version": "1.5.0",
          "state": {
            "_dom_classes": [],
            "_model_module": "@jupyter-widgets/controls",
            "_model_module_version": "1.5.0",
            "_model_name": "FloatProgressModel",
            "_view_count": null,
            "_view_module": "@jupyter-widgets/controls",
            "_view_module_version": "1.5.0",
            "_view_name": "ProgressView",
            "bar_style": "success",
            "description": "",
            "description_tooltip": null,
            "layout": "IPY_MODEL_43b2bd6cf7294ef98e2e83003de7d4d4",
            "max": 47208,
            "min": 0,
            "orientation": "horizontal",
            "style": "IPY_MODEL_9eacab0061e84963be2d69f86c4ccb9a",
            "value": 47208
          }
        },
        "b14de616c3ef4234beb5cecb7ae42d27": {
          "model_module": "@jupyter-widgets/controls",
          "model_name": "HTMLModel",
          "model_module_version": "1.5.0",
          "state": {
            "_dom_classes": [],
            "_model_module": "@jupyter-widgets/controls",
            "_model_module_version": "1.5.0",
            "_model_name": "HTMLModel",
            "_view_count": null,
            "_view_module": "@jupyter-widgets/controls",
            "_view_module_version": "1.5.0",
            "_view_name": "HTMLView",
            "description": "",
            "description_tooltip": null,
            "layout": "IPY_MODEL_33fe38990e1846bc82cc448b915d35d0",
            "placeholder": "​",
            "style": "IPY_MODEL_28392dcc2fec4a93ac3ae3d81d62349e",
            "value": " 379k/? [00:00&lt;00:00, 12.2MB/s]"
          }
        },
        "259ea92ffcd542b3b83814b6a417a251": {
          "model_module": "@jupyter-widgets/base",
          "model_name": "LayoutModel",
          "model_module_version": "1.2.0",
          "state": {
            "_model_module": "@jupyter-widgets/base",
            "_model_module_version": "1.2.0",
            "_model_name": "LayoutModel",
            "_view_count": null,
            "_view_module": "@jupyter-widgets/base",
            "_view_module_version": "1.2.0",
            "_view_name": "LayoutView",
            "align_content": null,
            "align_items": null,
            "align_self": null,
            "border": null,
            "bottom": null,
            "display": null,
            "flex": null,
            "flex_flow": null,
            "grid_area": null,
            "grid_auto_columns": null,
            "grid_auto_flow": null,
            "grid_auto_rows": null,
            "grid_column": null,
            "grid_gap": null,
            "grid_row": null,
            "grid_template_areas": null,
            "grid_template_columns": null,
            "grid_template_rows": null,
            "height": null,
            "justify_content": null,
            "justify_items": null,
            "left": null,
            "margin": null,
            "max_height": null,
            "max_width": null,
            "min_height": null,
            "min_width": null,
            "object_fit": null,
            "object_position": null,
            "order": null,
            "overflow": null,
            "overflow_x": null,
            "overflow_y": null,
            "padding": null,
            "right": null,
            "top": null,
            "visibility": null,
            "width": null
          }
        },
        "3f7cbe4a3f38412189d3c810858c7410": {
          "model_module": "@jupyter-widgets/base",
          "model_name": "LayoutModel",
          "model_module_version": "1.2.0",
          "state": {
            "_model_module": "@jupyter-widgets/base",
            "_model_module_version": "1.2.0",
            "_model_name": "LayoutModel",
            "_view_count": null,
            "_view_module": "@jupyter-widgets/base",
            "_view_module_version": "1.2.0",
            "_view_name": "LayoutView",
            "align_content": null,
            "align_items": null,
            "align_self": null,
            "border": null,
            "bottom": null,
            "display": null,
            "flex": null,
            "flex_flow": null,
            "grid_area": null,
            "grid_auto_columns": null,
            "grid_auto_flow": null,
            "grid_auto_rows": null,
            "grid_column": null,
            "grid_gap": null,
            "grid_row": null,
            "grid_template_areas": null,
            "grid_template_columns": null,
            "grid_template_rows": null,
            "height": null,
            "justify_content": null,
            "justify_items": null,
            "left": null,
            "margin": null,
            "max_height": null,
            "max_width": null,
            "min_height": null,
            "min_width": null,
            "object_fit": null,
            "object_position": null,
            "order": null,
            "overflow": null,
            "overflow_x": null,
            "overflow_y": null,
            "padding": null,
            "right": null,
            "top": null,
            "visibility": null,
            "width": null
          }
        },
        "1009550b0c684cadb731581bf6bb15d4": {
          "model_module": "@jupyter-widgets/controls",
          "model_name": "DescriptionStyleModel",
          "model_module_version": "1.5.0",
          "state": {
            "_model_module": "@jupyter-widgets/controls",
            "_model_module_version": "1.5.0",
            "_model_name": "DescriptionStyleModel",
            "_view_count": null,
            "_view_module": "@jupyter-widgets/base",
            "_view_module_version": "1.2.0",
            "_view_name": "StyleView",
            "description_width": ""
          }
        },
        "43b2bd6cf7294ef98e2e83003de7d4d4": {
          "model_module": "@jupyter-widgets/base",
          "model_name": "LayoutModel",
          "model_module_version": "1.2.0",
          "state": {
            "_model_module": "@jupyter-widgets/base",
            "_model_module_version": "1.2.0",
            "_model_name": "LayoutModel",
            "_view_count": null,
            "_view_module": "@jupyter-widgets/base",
            "_view_module_version": "1.2.0",
            "_view_name": "LayoutView",
            "align_content": null,
            "align_items": null,
            "align_self": null,
            "border": null,
            "bottom": null,
            "display": null,
            "flex": null,
            "flex_flow": null,
            "grid_area": null,
            "grid_auto_columns": null,
            "grid_auto_flow": null,
            "grid_auto_rows": null,
            "grid_column": null,
            "grid_gap": null,
            "grid_row": null,
            "grid_template_areas": null,
            "grid_template_columns": null,
            "grid_template_rows": null,
            "height": null,
            "justify_content": null,
            "justify_items": null,
            "left": null,
            "margin": null,
            "max_height": null,
            "max_width": null,
            "min_height": null,
            "min_width": null,
            "object_fit": null,
            "object_position": null,
            "order": null,
            "overflow": null,
            "overflow_x": null,
            "overflow_y": null,
            "padding": null,
            "right": null,
            "top": null,
            "visibility": null,
            "width": null
          }
        },
        "9eacab0061e84963be2d69f86c4ccb9a": {
          "model_module": "@jupyter-widgets/controls",
          "model_name": "ProgressStyleModel",
          "model_module_version": "1.5.0",
          "state": {
            "_model_module": "@jupyter-widgets/controls",
            "_model_module_version": "1.5.0",
            "_model_name": "ProgressStyleModel",
            "_view_count": null,
            "_view_module": "@jupyter-widgets/base",
            "_view_module_version": "1.2.0",
            "_view_name": "StyleView",
            "bar_color": null,
            "description_width": ""
          }
        },
        "33fe38990e1846bc82cc448b915d35d0": {
          "model_module": "@jupyter-widgets/base",
          "model_name": "LayoutModel",
          "model_module_version": "1.2.0",
          "state": {
            "_model_module": "@jupyter-widgets/base",
            "_model_module_version": "1.2.0",
            "_model_name": "LayoutModel",
            "_view_count": null,
            "_view_module": "@jupyter-widgets/base",
            "_view_module_version": "1.2.0",
            "_view_name": "LayoutView",
            "align_content": null,
            "align_items": null,
            "align_self": null,
            "border": null,
            "bottom": null,
            "display": null,
            "flex": null,
            "flex_flow": null,
            "grid_area": null,
            "grid_auto_columns": null,
            "grid_auto_flow": null,
            "grid_auto_rows": null,
            "grid_column": null,
            "grid_gap": null,
            "grid_row": null,
            "grid_template_areas": null,
            "grid_template_columns": null,
            "grid_template_rows": null,
            "height": null,
            "justify_content": null,
            "justify_items": null,
            "left": null,
            "margin": null,
            "max_height": null,
            "max_width": null,
            "min_height": null,
            "min_width": null,
            "object_fit": null,
            "object_position": null,
            "order": null,
            "overflow": null,
            "overflow_x": null,
            "overflow_y": null,
            "padding": null,
            "right": null,
            "top": null,
            "visibility": null,
            "width": null
          }
        },
        "28392dcc2fec4a93ac3ae3d81d62349e": {
          "model_module": "@jupyter-widgets/controls",
          "model_name": "DescriptionStyleModel",
          "model_module_version": "1.5.0",
          "state": {
            "_model_module": "@jupyter-widgets/controls",
            "_model_module_version": "1.5.0",
            "_model_name": "DescriptionStyleModel",
            "_view_count": null,
            "_view_module": "@jupyter-widgets/base",
            "_view_module_version": "1.2.0",
            "_view_name": "StyleView",
            "description_width": ""
          }
        }
      }
    }
  },
  "cells": [
    {
      "cell_type": "markdown",
      "metadata": {
        "id": "view-in-github",
        "colab_type": "text"
      },
      "source": [
        "<a href=\"https://colab.research.google.com/github/IKeeso/Project9_data/blob/main/Project.ipynb\" target=\"_parent\"><img src=\"https://colab.research.google.com/assets/colab-badge.svg\" alt=\"Open In Colab\"/></a>"
      ]
    },
    {
      "cell_type": "code",
      "execution_count": 15,
      "metadata": {
        "id": "aY5TNdTtkz2c",
        "outputId": "aa83b8f8-8ff3-4093-d358-5ffff73050a3",
        "colab": {
          "base_uri": "https://localhost:8080/"
        }
      },
      "outputs": [
        {
          "output_type": "stream",
          "name": "stdout",
          "text": [
            "Requirement already satisfied: stanza in /usr/local/lib/python3.10/dist-packages (1.8.2)\n",
            "Requirement already satisfied: emoji in /usr/local/lib/python3.10/dist-packages (from stanza) (2.11.1)\n",
            "Requirement already satisfied: numpy in /usr/local/lib/python3.10/dist-packages (from stanza) (1.25.2)\n",
            "Requirement already satisfied: protobuf>=3.15.0 in /usr/local/lib/python3.10/dist-packages (from stanza) (3.20.3)\n",
            "Requirement already satisfied: requests in /usr/local/lib/python3.10/dist-packages (from stanza) (2.31.0)\n",
            "Requirement already satisfied: networkx in /usr/local/lib/python3.10/dist-packages (from stanza) (3.3)\n",
            "Requirement already satisfied: toml in /usr/local/lib/python3.10/dist-packages (from stanza) (0.10.2)\n",
            "Requirement already satisfied: torch>=1.3.0 in /usr/local/lib/python3.10/dist-packages (from stanza) (2.2.1+cu121)\n",
            "Requirement already satisfied: tqdm in /usr/local/lib/python3.10/dist-packages (from stanza) (4.66.2)\n",
            "Requirement already satisfied: filelock in /usr/local/lib/python3.10/dist-packages (from torch>=1.3.0->stanza) (3.13.4)\n",
            "Requirement already satisfied: typing-extensions>=4.8.0 in /usr/local/lib/python3.10/dist-packages (from torch>=1.3.0->stanza) (4.11.0)\n",
            "Requirement already satisfied: sympy in /usr/local/lib/python3.10/dist-packages (from torch>=1.3.0->stanza) (1.12)\n",
            "Requirement already satisfied: jinja2 in /usr/local/lib/python3.10/dist-packages (from torch>=1.3.0->stanza) (3.1.3)\n",
            "Requirement already satisfied: fsspec in /usr/local/lib/python3.10/dist-packages (from torch>=1.3.0->stanza) (2023.6.0)\n",
            "Requirement already satisfied: nvidia-cuda-nvrtc-cu12==12.1.105 in /usr/local/lib/python3.10/dist-packages (from torch>=1.3.0->stanza) (12.1.105)\n",
            "Requirement already satisfied: nvidia-cuda-runtime-cu12==12.1.105 in /usr/local/lib/python3.10/dist-packages (from torch>=1.3.0->stanza) (12.1.105)\n",
            "Requirement already satisfied: nvidia-cuda-cupti-cu12==12.1.105 in /usr/local/lib/python3.10/dist-packages (from torch>=1.3.0->stanza) (12.1.105)\n",
            "Requirement already satisfied: nvidia-cudnn-cu12==8.9.2.26 in /usr/local/lib/python3.10/dist-packages (from torch>=1.3.0->stanza) (8.9.2.26)\n",
            "Requirement already satisfied: nvidia-cublas-cu12==12.1.3.1 in /usr/local/lib/python3.10/dist-packages (from torch>=1.3.0->stanza) (12.1.3.1)\n",
            "Requirement already satisfied: nvidia-cufft-cu12==11.0.2.54 in /usr/local/lib/python3.10/dist-packages (from torch>=1.3.0->stanza) (11.0.2.54)\n",
            "Requirement already satisfied: nvidia-curand-cu12==10.3.2.106 in /usr/local/lib/python3.10/dist-packages (from torch>=1.3.0->stanza) (10.3.2.106)\n",
            "Requirement already satisfied: nvidia-cusolver-cu12==11.4.5.107 in /usr/local/lib/python3.10/dist-packages (from torch>=1.3.0->stanza) (11.4.5.107)\n",
            "Requirement already satisfied: nvidia-cusparse-cu12==12.1.0.106 in /usr/local/lib/python3.10/dist-packages (from torch>=1.3.0->stanza) (12.1.0.106)\n",
            "Requirement already satisfied: nvidia-nccl-cu12==2.19.3 in /usr/local/lib/python3.10/dist-packages (from torch>=1.3.0->stanza) (2.19.3)\n",
            "Requirement already satisfied: nvidia-nvtx-cu12==12.1.105 in /usr/local/lib/python3.10/dist-packages (from torch>=1.3.0->stanza) (12.1.105)\n",
            "Requirement already satisfied: triton==2.2.0 in /usr/local/lib/python3.10/dist-packages (from torch>=1.3.0->stanza) (2.2.0)\n",
            "Requirement already satisfied: nvidia-nvjitlink-cu12 in /usr/local/lib/python3.10/dist-packages (from nvidia-cusolver-cu12==11.4.5.107->torch>=1.3.0->stanza) (12.4.127)\n",
            "Requirement already satisfied: charset-normalizer<4,>=2 in /usr/local/lib/python3.10/dist-packages (from requests->stanza) (3.3.2)\n",
            "Requirement already satisfied: idna<4,>=2.5 in /usr/local/lib/python3.10/dist-packages (from requests->stanza) (3.7)\n",
            "Requirement already satisfied: urllib3<3,>=1.21.1 in /usr/local/lib/python3.10/dist-packages (from requests->stanza) (2.0.7)\n",
            "Requirement already satisfied: certifi>=2017.4.17 in /usr/local/lib/python3.10/dist-packages (from requests->stanza) (2024.2.2)\n",
            "Requirement already satisfied: MarkupSafe>=2.0 in /usr/local/lib/python3.10/dist-packages (from jinja2->torch>=1.3.0->stanza) (2.1.5)\n",
            "Requirement already satisfied: mpmath>=0.19 in /usr/local/lib/python3.10/dist-packages (from sympy->torch>=1.3.0->stanza) (1.3.0)\n",
            "Collecting conllu\n",
            "  Downloading conllu-4.5.3-py2.py3-none-any.whl (16 kB)\n",
            "Installing collected packages: conllu\n",
            "Successfully installed conllu-4.5.3\n",
            "Cloning into 'Project9_data'...\n",
            "remote: Enumerating objects: 18, done.\u001b[K\n",
            "remote: Counting objects: 100% (18/18), done.\u001b[K\n",
            "remote: Compressing objects: 100% (17/17), done.\u001b[K\n",
            "remote: Total 18 (delta 3), reused 0 (delta 0), pack-reused 0\u001b[K\n",
            "Receiving objects: 100% (18/18), 14.99 KiB | 3.75 MiB/s, done.\n",
            "Resolving deltas: 100% (3/3), done.\n"
          ]
        }
      ],
      "source": [
        "!pip install stanza\n",
        "!pip install conllu\n",
        "!git clone https://github.com/IKeeso/Project9_data.git"
      ]
    },
    {
      "cell_type": "code",
      "source": [
        "import stanza\n",
        "from stanza.utils.conll import CoNLL\n",
        "from conllu import parse\n",
        "\n",
        "!ls Project9_data\n"
      ],
      "metadata": {
        "id": "yCcYfhBIiiLy",
        "outputId": "f67a918b-9679-4e27-aa61-46e290b14440",
        "colab": {
          "base_uri": "https://localhost:8080/"
        }
      },
      "execution_count": 16,
      "outputs": [
        {
          "output_type": "stream",
          "name": "stdout",
          "text": [
            "expressen.txt  Project.ipynb\n"
          ]
        }
      ]
    },
    {
      "cell_type": "code",
      "source": [
        "stanza.download('sv')\n",
        "nlp = stanza.Pipeline(lang='sv')"
      ],
      "metadata": {
        "id": "O8ZSbpC373Dp",
        "outputId": "f5d9af5e-db98-4498-e8e0-1e765f6a6c82",
        "colab": {
          "base_uri": "https://localhost:8080/",
          "height": 633,
          "referenced_widgets": [
            "e34f28224a594cc8bc2f9deccbd2f406",
            "e7f04645ef8f43ca9f96ac05fe3b7afe",
            "2600824330564b92beffb0d50c859b0b",
            "a6114daeb41b4654b5ce07304fe7ff9b",
            "4d88d4fdf3514c4cb2ee3cf69fb7f724",
            "793beb8c04a540c89a761be484647847",
            "e2ae563e6c3749fa92818342b8b55fe5",
            "5511ddf752944fabbf87d77656051ebe",
            "df33c6bb9cb24bd897629c476882d7d6",
            "c5e6f8a9a6bb41849618855618faf48a",
            "c628da2586ad4f9aad3e3859d886e77f",
            "4a6c518288994544b90554f04a6fd6ff",
            "66e710702a604d05a80b0b891b245a45",
            "62744ba16af145b8ba9cad2871b24779",
            "c9c0ba2972e94f2c885f1ddab33b0c7d",
            "60b0b08e32a84f46a9e68357b04371b3",
            "8eb11d0e662141fb88363dc6eed17554",
            "8e50e79cd55b449ebfba3f95895bcb5a",
            "e9731a5f98364363bd5afa1c1f030572",
            "98fed7aeb4314341a00a20858d891860",
            "c389bf8edb5445d9a839cecae59a641d",
            "58a77ff95aa44d9983603c23400cf94e",
            "6658baa5500547a6b188d1b8692b32cc",
            "9e9cb893005c41739bb3ee2929582188",
            "18313a4a812d4660ba0280127d87b0b4",
            "b14de616c3ef4234beb5cecb7ae42d27",
            "259ea92ffcd542b3b83814b6a417a251",
            "3f7cbe4a3f38412189d3c810858c7410",
            "1009550b0c684cadb731581bf6bb15d4",
            "43b2bd6cf7294ef98e2e83003de7d4d4",
            "9eacab0061e84963be2d69f86c4ccb9a",
            "33fe38990e1846bc82cc448b915d35d0",
            "28392dcc2fec4a93ac3ae3d81d62349e"
          ]
        }
      },
      "execution_count": 3,
      "outputs": [
        {
          "output_type": "display_data",
          "data": {
            "text/plain": [
              "Downloading https://raw.githubusercontent.com/stanfordnlp/stanza-resources/main/resources_1.8.0.json:   0%|   …"
            ],
            "application/vnd.jupyter.widget-view+json": {
              "version_major": 2,
              "version_minor": 0,
              "model_id": "e34f28224a594cc8bc2f9deccbd2f406"
            }
          },
          "metadata": {}
        },
        {
          "output_type": "stream",
          "name": "stderr",
          "text": [
            "INFO:stanza:Downloaded file to /root/stanza_resources/resources.json\n",
            "INFO:stanza:Downloading default packages for language: sv (Swedish) ...\n"
          ]
        },
        {
          "output_type": "display_data",
          "data": {
            "text/plain": [
              "Downloading https://huggingface.co/stanfordnlp/stanza-sv/resolve/v1.8.0/models/default.zip:   0%|          | 0…"
            ],
            "application/vnd.jupyter.widget-view+json": {
              "version_major": 2,
              "version_minor": 0,
              "model_id": "4a6c518288994544b90554f04a6fd6ff"
            }
          },
          "metadata": {}
        },
        {
          "output_type": "stream",
          "name": "stderr",
          "text": [
            "INFO:stanza:Downloaded file to /root/stanza_resources/sv/default.zip\n",
            "INFO:stanza:Finished downloading models and saved to /root/stanza_resources\n",
            "INFO:stanza:Checking for updates to resources.json in case models have been updated.  Note: this behavior can be turned off with download_method=None or download_method=DownloadMethod.REUSE_RESOURCES\n"
          ]
        },
        {
          "output_type": "display_data",
          "data": {
            "text/plain": [
              "Downloading https://raw.githubusercontent.com/stanfordnlp/stanza-resources/main/resources_1.8.0.json:   0%|   …"
            ],
            "application/vnd.jupyter.widget-view+json": {
              "version_major": 2,
              "version_minor": 0,
              "model_id": "6658baa5500547a6b188d1b8692b32cc"
            }
          },
          "metadata": {}
        },
        {
          "output_type": "stream",
          "name": "stderr",
          "text": [
            "INFO:stanza:Downloaded file to /root/stanza_resources/resources.json\n",
            "INFO:stanza:Loading these models for language: sv (Swedish):\n",
            "==================================\n",
            "| Processor | Package            |\n",
            "----------------------------------\n",
            "| tokenize  | talbanken          |\n",
            "| pos       | talbanken_charlm   |\n",
            "| lemma     | talbanken_nocharlm |\n",
            "| depparse  | talbanken_charlm   |\n",
            "| ner       | suc3shuffle        |\n",
            "==================================\n",
            "\n",
            "INFO:stanza:Using device: cpu\n",
            "INFO:stanza:Loading: tokenize\n",
            "INFO:stanza:Loading: pos\n",
            "INFO:stanza:Loading: lemma\n",
            "INFO:stanza:Loading: depparse\n",
            "INFO:stanza:Loading: ner\n",
            "INFO:stanza:Done loading processors!\n"
          ]
        }
      ]
    },
    {
      "cell_type": "code",
      "source": [
        "def tag_and_convert(filename):\n",
        "  %cd /content/Project9_data\n",
        "  with open(filename, 'r', encoding='utf-8') as file:\n",
        "    text = file.read()\n",
        "    doc = nlp(text)\n",
        "    file.close()\n",
        "    pathname = filename.split(\".\")[0]\n",
        "    conllufilename = f\"{pathname}.conllu\"\n",
        "  CoNLL.write_doc2conll(doc, conllufilename)"
      ],
      "metadata": {
        "id": "dgejjVHjCtAL"
      },
      "execution_count": 4,
      "outputs": []
    },
    {
      "cell_type": "code",
      "source": [
        "tag_and_convert(\"expressen.txt\")"
      ],
      "metadata": {
        "colab": {
          "base_uri": "https://localhost:8080/"
        },
        "id": "9qqMAKmDTjJZ",
        "outputId": "c9fe060c-bad2-499e-9d84-270d5e4d259c"
      },
      "execution_count": 5,
      "outputs": [
        {
          "output_type": "stream",
          "name": "stdout",
          "text": [
            "/content/Project9_data\n"
          ]
        }
      ]
    },
    {
      "cell_type": "code",
      "source": [
        "\"\"\"\n",
        "!git remote -v\n",
        "!git init\n",
        "!git config --global user.email 'isali352@student.liu.se'\n",
        "!git config --global user.name 'IKeeso'\n",
        "!git add expressen.conllu\n",
        "!git commit -m 'New commit'  # commit in Colab\n",
        "!git push origin main\n",
        "\"\"\""
      ],
      "metadata": {
        "id": "qzmDEJ-7dlyl",
        "outputId": "e1c3c644-6331-41dd-efd4-ec6c2d148fd2",
        "colab": {
          "base_uri": "https://localhost:8080/",
          "height": 70
        }
      },
      "execution_count": 6,
      "outputs": [
        {
          "output_type": "execute_result",
          "data": {
            "text/plain": [
              "\"\\n!git remote -v\\n!git init\\n!git config --global user.email 'isali352@student.liu.se'\\n!git config --global user.name 'IKeeso'\\n!git add expressen.conllu\\n!git commit -m 'New commit'  # commit in Colab\\n!git push origin main\\n\""
            ],
            "application/vnd.google.colaboratory.intrinsic+json": {
              "type": "string"
            }
          },
          "metadata": {},
          "execution_count": 6
        }
      ]
    },
    {
      "cell_type": "code",
      "source": [
        "file_path = 'expressen.conllu'\n",
        "\n",
        "with open(file_path , \"r\", encoding=\"utf-8\") as f:\n",
        "    data = f.read()\n",
        "sentences = parse(data)\n",
        "\n",
        "print(type(data))\n"
      ],
      "metadata": {
        "id": "cdZeJDyW3SaC",
        "outputId": "6463dd0f-8c07-4e7a-c954-ff92aba4b17a",
        "colab": {
          "base_uri": "https://localhost:8080/"
        }
      },
      "execution_count": 13,
      "outputs": [
        {
          "output_type": "stream",
          "name": "stdout",
          "text": [
            "<class 'str'>\n"
          ]
        }
      ]
    },
    {
      "cell_type": "code",
      "source": [
        "class SemanticAnalyzer:\n",
        "    def __init__(self, file_path):\n",
        "        self.file_path = file_path\n",
        "        self.data = self.load_conll_u()\n",
        "\n",
        "    def load_conll_u(self):\n",
        "        with open(file_path, \"r\", encoding=\"utf-8\") as f:\n",
        "          data = f.read()\n",
        "\n",
        "      # Parse the CoNLL-U data into a list of TokenList objects\n",
        "        sentences = parse(data)\n",
        "        return sentences\n",
        "\n",
        "    def analyze_sentence(self, sentence):\n",
        "        tokens = [token.split('\\t') for token in sentence.split('\\n')]\n",
        "\n",
        "        # Example: Extract verbs and their subjects\n",
        "        verbs_with_subjects = [(token[1], tokens[int(token[6]) - 1][1])\n",
        "                               for token in tokens\n",
        "                               if token[3].startswith('V') and token[6] != '0']\n",
        "\n",
        "        # Example: Extract adjectives modifying nouns\n",
        "        adjectives_with_nouns = [(token[1], tokens[int(token[6]) - 1][1])\n",
        "                                 for token in tokens\n",
        "                                 if token[3].startswith('ADJ') and token[6] != '0'\n",
        "                                 and tokens[int(token[6]) - 1][3].startswith('N')]\n",
        "\n",
        "        return verbs_with_subjects, adjectives_with_nouns\n",
        "\n",
        "# Example usage:\n",
        "file_path = 'expressen.conllu'\n",
        "analyzer = SemanticAnalyzer(file_path)\n",
        "print(analyzer.data)\n",
        "\n",
        "#for sentence in analyzer.data:\n",
        "#    print(\"Analyzing sentence:\", sentence)\n",
        "#    verbs_with_subjects, adjectives_with_nouns = analyzer.analyze_sentence(sentence)\n",
        "#    print(\"Verbs with subjects:\", verbs_with_subjects)\n",
        "#    print(\"Adjectives with nouns:\", adjectives_with_nouns)"
      ],
      "metadata": {
        "id": "tCyasQHAyXHx",
        "outputId": "efbf1b14-855e-46ba-e004-64ac2d0f6617",
        "colab": {
          "base_uri": "https://localhost:8080/"
        }
      },
      "execution_count": 17,
      "outputs": [
        {
          "output_type": "stream",
          "name": "stdout",
          "text": [
            "[TokenList<”, Det, ser, otroligt, olika, ut, för, olika, autistiska, personer, ”, metadata={text: \"”Det ser otroligt olika ut för olika autistiska personer”\", sent_id: \"0\"}>, TokenList<Publicerad, 2, apr, 2024, kl, 15, ., metadata={text: \"Publicerad 2 apr 2024 kl 15.\", sent_id: \"1\"}>, TokenList<14, metadata={text: \"14\", sent_id: \"2\"}>, TokenList<Uppdaterad, 8, apr, kl, 14.53, metadata={text: \"Uppdaterad 8 apr kl 14.53\", sent_id: \"3\"}>, TokenList<Många, med, autism, känner, sig, missförstådda, och, har, svårt, att, klara, skolan, ., metadata={text: \"Många med autism känner sig missförstådda och har svårt att klara skolan.\", sent_id: \"4\"}>, TokenList<Det, vill, föreningen, Autism, Sverige, ändra, på, ., metadata={text: \"Det vill föreningen Autism Sverige ändra på.\", sent_id: \"5\"}>, TokenList<–, Varannan, elev, med, autism, når, inte, målen, i, skolan, ,, på, högstadiet, är, andelen, ännu, större, ., metadata={text: \"– Varannan elev med autism når inte målen i skolan, på högstadiet är andelen ännu större.\", sent_id: \"6\"}>, TokenList<Vi, behöver, en, skola, som, ger, alla, elever, möjlighet, att, lyckas, utifrån, sina, egna, förutsättningar, ,, säger, Linn, Rivero, Mildén, som, är, kommunikatör, på, Autism, Sverige, ., metadata={text: \"Vi behöver en skola som ger alla elever möjlighet att lyckas utifrån sina egna förutsättningar, säger Linn Rivero Mildén som är kommunikatör på Autism Sverige.\", sent_id: \"7\"}>, TokenList<Det, är, viktigt, att, öka, förståelsen, för, att, olika, personer, med, autism, har, olika, förutsättningar, ,, menar, Linn, ., metadata={text: \"Det är viktigt att öka förståelsen för att olika personer med autism har olika förutsättningar, menar Linn.\", sent_id: \"8\"}>, TokenList<–, Det, ser, otroligt, olika, ut, för, olika, autistiska, personer, och, spektrumet, kan, vara, stort, i, en, och, samma, person, ,, säger, hon, ., metadata={text: \"– Det ser otroligt olika ut för olika autistiska personer och spektrumet kan vara stort i en och samma person, säger hon.\", sent_id: \"9\"}>, TokenList<Sandra, Dahlberg, tillsammans, med, Gunilla, Sundblad, ,, förbundssekreterare, på, Autism, Sverige, ., metadata={text: \"Sandra Dahlberg tillsammans med Gunilla Sundblad, förbundssekreterare på Autism Sverige.\", sent_id: \"10\"}>, TokenList<Förändrade, attityder, krävs, för, att, skapa, ett, samhälle, för, alla, Sedan, 2018, har, Postkodlotteriet, stöttat, Autism, Sverige, ,, tidigare, Autism-, och, Aspergerförbundet, ,, som, arbetar, för, att, förbättra, villkoren, för, personer, med, autism, ., metadata={text: \"Förändrade attityder krävs för att skapa ett samhälle för alla Sedan 2018 har Postkodlotteriet stöttat Autism Sverige, tidigare Autism- och Aspergerförbundet, som arbetar för att förbättra villkoren för personer med autism.\", sent_id: \"11\"}>, TokenList<Som, en, av, organisationerna, i, Postkodfamiljen, får, Autism, Sverige, varje, år, ett, basstöd, med, icke, öronmärkta, pengar, att, använda, där, de, själva, ser, att, de, gör, mest, nytta, ., metadata={text: \"Som en av organisationerna i Postkodfamiljen får Autism Sverige varje år ett basstöd med icke öronmärkta pengar att använda där de själva ser att de gör mest nytta.\", sent_id: \"12\"}>, TokenList<I, år, blev, basstödet, 5, miljoner, kronor, ., metadata={text: \"I år blev basstödet 5 miljoner kronor.\", sent_id: \"13\"}>, TokenList<–, Stödet, från, Postkodlotteriet, gör, att, vi, kan, erbjuda, läger, för, autistiska, barn, och, unga, med, deras, föräldrar, ., metadata={text: \"– Stödet från Postkodlotteriet gör att vi kan erbjuda läger för autistiska barn och unga med deras föräldrar.\", sent_id: \"14\"}>, TokenList<Vi, kan, dessutom, sprida, kunskap, genom, att, producera, Podden, Autism, och, vi, kan, arbeta, för, en, skola, för, alla, ,, berättar, Linn, ., metadata={text: \"Vi kan dessutom sprida kunskap genom att producera Podden Autism och vi kan arbeta för en skola för alla, berättar Linn.\", sent_id: \"15\"}>, TokenList<Linn, Rivero, metadata={text: \"Linn Rivero\", sent_id: \"16\"}>, TokenList<Mildén, som, är, kommunikatör, på, Autism, Sverige, ., metadata={text: \"Mildén som är kommunikatör på Autism Sverige.\", sent_id: \"17\"}>, TokenList<Foto, :, Christina, Teuchler, Totalt, har, organisationen, tagit, emot, över, 30, miljoner, kronor, ., metadata={text: \"Foto: Christina Teuchler Totalt har organisationen tagit emot över 30 miljoner kronor.\", sent_id: \"18\"}>, TokenList<–, Tack, vare, alla, lottköpare, kan, vi, arbeta, effektivare, för, att, nå, vår, vision, ,, ett, samhälle, där, alla, kan, delta, ,, där, personer, med, autism, möts, med, respekt, och, har, bra, livskvalitet, genom, hela, livet, ., metadata={text: \"– Tack vare alla lottköpare kan vi arbeta effektivare för att nå vår vision, ett samhälle där alla kan delta, där personer med autism möts med respekt och har bra livskvalitet genom hela livet.\", sent_id: \"19\"}>, TokenList<Att, sprida, information, om, autism, är, ett, viktigt, led, i, vårt, arbete, ., metadata={text: \"Att sprida information om autism är ett viktigt led i vårt arbete.\", sent_id: \"20\"}>, TokenList<Genom, att, förändra, attityder, får, vi, ett, mer, tillgängligt, samhälle, för, alla, ,, säger, Linn, ., metadata={text: \"Genom att förändra attityder får vi ett mer tillgängligt samhälle för alla, säger Linn.\", sent_id: \"21\"}>, TokenList<Rebecca, metadata={text: \"Rebecca\", sent_id: \"22\"}>, TokenList<Didriksson, från, Målilla, är, lottköpare, och, även, vinnare, i, Postkodlotteriet, ., metadata={text: \"Didriksson från Målilla är lottköpare och även vinnare i Postkodlotteriet.\", sent_id: \"23\"}>, TokenList<Hon, fick, möjlighet, att, följa, med, Postkodlotteriets, vinstutdelare, Sandra, Dahlberg, när, hon, nyligen, besökte, Autism, Sverige, för, att, dela, ut, årets, basstödscheck, ., metadata={text: \"Hon fick möjlighet att följa med Postkodlotteriets vinstutdelare Sandra Dahlberg när hon nyligen besökte Autism Sverige för att dela ut årets basstödscheck.\", sent_id: \"24\"}>, TokenList<–, Eftersom, jag, stöter, på, människor, med, autism, i, mitt, jobb, så, är, det, väldigt, spännande, att, höra, vad, Autism, Sverige, gör, mer, konkret, ., metadata={text: \"– Eftersom jag stöter på människor med autism i mitt jobb så är det väldigt spännande att höra vad Autism Sverige gör mer konkret.\", sent_id: \"25\"}>, TokenList<Det, känns, jättekul, att, vara, med, och, bidra, till, det, här, arbetet, ,, säger, Rebecca, som, till, vardags, jobbar, som, undersköterska, ., metadata={text: \"Det känns jättekul att vara med och bidra till det här arbetet, säger Rebecca som till vardags jobbar som undersköterska.\", sent_id: \"26\"}>, TokenList<Rebecca, metadata={text: \"Rebecca\", sent_id: \"27\"}>, TokenList<Didriksson, från, Målilla, är, lottköpare, och, även, vinnare, i, Postkodlotteriet, ., metadata={text: \"Didriksson från Målilla är lottköpare och även vinnare i Postkodlotteriet.\", sent_id: \"28\"}>, TokenList<Upptäckten, :, metadata={text: \"Upptäckten:\", sent_id: \"29\"}>, TokenList<”, Kände, att, jag, var, annorlunda”, Sandra, Dahlberg, har, jobbat, som, vinstutdelare, för, Postkodlotteriet, i, femton, år, ., metadata={text: \"”Kände att jag var annorlunda” Sandra Dahlberg har jobbat som vinstutdelare för Postkodlotteriet i femton år.\", sent_id: \"30\"}>, TokenList<Hon, berättar, om, sin, barndom, i, den, lilla, byn, Klimpfjäll, där, hon, gick, i, skolan, i, en, klass, med, bara, fem, barn, ., metadata={text: \"Hon berättar om sin barndom i den lilla byn Klimpfjäll där hon gick i skolan i en klass med bara fem barn.\", sent_id: \"31\"}>, TokenList<–, När, jag, var, liten, kände, jag, att, jag, var, annorlunda, och, jag, har, jobbat, hela, livet, för, att, bli, som, andra, ., metadata={text: \"– När jag var liten kände jag att jag var annorlunda och jag har jobbat hela livet för att bli som andra.\", sent_id: \"32\"}>, TokenList<Nu, i, vuxen, ålder, har, det, visat, sig, att, jag, har, adhd, och, autism, ,, säger, Sandra, ., metadata={text: \"Nu i vuxen ålder har det visat sig att jag har adhd och autism, säger Sandra.\", sent_id: \"33\"}>, TokenList<Linn, trycker, på, vikten, av, att, utbilda, skolpersonal, och, öka, kunskapen, om, autism, i, skolorna, så, att, alla, så, tidigt, som, möjligt, kan, mötas, med, förståelse, och, få, rätt, förutsättningar, för, att, trivas, och, nå, sin, fulla, potential, i, skolan, ., metadata={text: \"Linn trycker på vikten av att utbilda skolpersonal och öka kunskapen om autism i skolorna så att alla så tidigt som möjligt kan mötas med förståelse och få rätt förutsättningar för att trivas och nå sin fulla potential i skolan.\", sent_id: \"34\"}>, TokenList<–, Det, är, viktigt, att, anpassa, skolan, efter, individen, ,, att, det, finns, resurser, att, se, varje, elev, ., metadata={text: \"– Det är viktigt att anpassa skolan efter individen, att det finns resurser att se varje elev.\", sent_id: \"35\"}>, TokenList<Autism, Sverige, vill, se, en, skola, där, det, finns, plats, för, alla, elever, och, där, skolpersonal, ska, få, ökad, kunskap, om, autism, ,, säger, Linn, ., metadata={text: \"Autism Sverige vill se en skola där det finns plats för alla elever och där skolpersonal ska få ökad kunskap om autism, säger Linn.\", sent_id: \"36\"}>, TokenList<Imponerande, styrkor, Sandra, Dahlberg, lyfter, fram, den, nytta, som, samhället, kan, ha, av, personer, med, autism, om, vi, bara, känner, till, deras, kompetenser, bättre, ., metadata={text: \"Imponerande styrkor Sandra Dahlberg lyfter fram den nytta som samhället kan ha av personer med autism om vi bara känner till deras kompetenser bättre.\", sent_id: \"37\"}>, TokenList<Som, till, exempel, ett, fotografiskt, minne, i, kombination, med, en, annan, styrka, ,, i, hennes, eget, fall, :, metadata={text: \"Som till exempel ett fotografiskt minne i kombination med en annan styrka, i hennes eget fall:\", sent_id: \"38\"}>, TokenList<–, Jag, älskar, att, organisera, och, strukturera, ,, säger, hon, ., metadata={text: \"– Jag älskar att organisera och strukturera, säger hon.\", sent_id: \"39\"}>, TokenList<Det, har, varit, som, en, nyckel, genom, hela, mitt, liv, ., metadata={text: \"Det har varit som en nyckel genom hela mitt liv.\", sent_id: \"40\"}>, TokenList<Jag, tror, vi, behöver, informera, övriga, världen, ., metadata={text: \"Jag tror vi behöver informera övriga världen.\", sent_id: \"41\"}>, TokenList<Här, finns, människor, med, imponerande, kompetenser, ,, men, tvingas, de, göra, fel, saker, tar, orken, slut, ,, säger, Sandra, ., metadata={text: \"Här finns människor med imponerande kompetenser, men tvingas de göra fel saker tar orken slut, säger Sandra.\", sent_id: \"42\"}>]\n"
          ]
        }
      ]
    }
  ]
}