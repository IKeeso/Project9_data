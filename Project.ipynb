{
  "nbformat": 4,
  "nbformat_minor": 0,
  "metadata": {
    "colab": {
      "provenance": [],
      "authorship_tag": "ABX9TyP5dFM2yq66QvZtXf8EThp6",
      "include_colab_link": true
    },
    "kernelspec": {
      "name": "python3",
      "display_name": "Python 3"
    },
    "language_info": {
      "name": "python"
    }
  },
  "cells": [
    {
      "cell_type": "markdown",
      "metadata": {
        "id": "view-in-github",
        "colab_type": "text"
      },
      "source": [
        "<a href=\"https://colab.research.google.com/github/IKeeso/Project9_data/blob/main/Project.ipynb\" target=\"_parent\"><img src=\"https://colab.research.google.com/assets/colab-badge.svg\" alt=\"Open In Colab\"/></a>"
      ]
    },
    {
      "cell_type": "code",
      "execution_count": null,
      "metadata": {
        "id": "aY5TNdTtkz2c"
      },
      "outputs": [],
      "source": [
        "!pip install stanza\n",
        "!git clone https://github.com/IKeeso/Project9_data.git"
      ]
    },
    {
      "cell_type": "code",
      "source": [
        "import stanza\n",
        "from stanza.utils.conll import CoNLL\n",
        "\n",
        "!ls Project9_data\n"
      ],
      "metadata": {
        "id": "yCcYfhBIiiLy"
      },
      "execution_count": null,
      "outputs": []
    },
    {
      "cell_type": "code",
      "source": [
        "stanza.download('sv')\n",
        "nlp = stanza.Pipeline(lang='sv')"
      ],
      "metadata": {
        "id": "O8ZSbpC373Dp"
      },
      "execution_count": null,
      "outputs": []
    },
    {
      "cell_type": "code",
      "source": [
        "\"\"\"\n",
        "SSH key setup for github\n",
        "\"\"\"\n",
        "\n",
        "email = \"isali352@student.liu.se\" #Byt ut mot din GitHub email.\n",
        "\n",
        "!ssh-keygen -t rsa -b 4096 -C \"$email\"\n"
      ],
      "metadata": {
        "id": "k_HIMFqbgEN_"
      },
      "execution_count": null,
      "outputs": []
    },
    {
      "cell_type": "code",
      "source": [
        "def tag_and_convert(filename):\n",
        "  %cd /content/Project9_data\n",
        "  with open(filename, 'r', encoding='utf-8') as file:\n",
        "    text = file.read()\n",
        "    doc = nlp(text)\n",
        "    file.close()\n",
        "    pathname = filename.split(\".\")[0]\n",
        "    conllufilename = f\"{pathname}.conllu\"\n",
        "  CoNLL.write_doc2conll(doc, conllufilename)"
      ],
      "metadata": {
        "id": "dgejjVHjCtAL"
      },
      "execution_count": 44,
      "outputs": []
    },
    {
      "cell_type": "code",
      "source": [
        "tag_and_convert(\"expressen.txt\")"
      ],
      "metadata": {
        "colab": {
          "base_uri": "https://localhost:8080/"
        },
        "id": "9qqMAKmDTjJZ",
        "outputId": "8925ef94-3aab-4450-c59b-763036791c1c"
      },
      "execution_count": 45,
      "outputs": [
        {
          "output_type": "stream",
          "name": "stdout",
          "text": [
            "/content/Project9_data\n"
          ]
        }
      ]
    },
    {
      "cell_type": "code",
      "source": [
        "!git remote -v\n",
        "!git config --global user.email \"isali352@student.liu.se\"\n",
        "!git config --global user.name \"IKeeso\"\n",
        "!git add -A\n",
        "!git commit -a  # commit in Colab\n",
        "!git push"
      ],
      "metadata": {
        "id": "qzmDEJ-7dlyl",
        "outputId": "55990e22-0886-4774-b74e-95e2b36ab96d",
        "colab": {
          "base_uri": "https://localhost:8080/"
        }
      },
      "execution_count": 59,
      "outputs": [
        {
          "output_type": "stream",
          "name": "stdout",
          "text": [
            "origin\thttps://github.com/IKeeso/Project9_data.git (fetch)\n",
            "origin\thttps://github.com/IKeeso/Project9_data.git (push)\n",
            "error: unknown switch `a'\n",
            "usage: git add [<options>] [--] <pathspec>...\n",
            "\n",
            "    -n, --dry-run         dry run\n",
            "    -v, --verbose         be verbose\n",
            "\n",
            "    -i, --interactive     interactive picking\n",
            "    -p, --patch           select hunks interactively\n",
            "    -e, --edit            edit current diff and apply\n",
            "    -f, --force           allow adding otherwise ignored files\n",
            "    -u, --update          update tracked files\n",
            "    --renormalize         renormalize EOL of tracked files (implies -u)\n",
            "    -N, --intent-to-add   record only the fact that the path will be added later\n",
            "    -A, --all             add changes from all tracked and untracked files\n",
            "    --ignore-removal      ignore paths removed in the working tree (same as --no-all)\n",
            "    --refresh             don't add, only refresh the index\n",
            "    --ignore-errors       just skip files which cannot be added because of errors\n",
            "    --ignore-missing      check if - even missing - files are ignored in dry run\n",
            "    --sparse              allow updating entries outside of the sparse-checkout cone\n",
            "    --chmod (+|-)x        override the executable bit of the listed files\n",
            "    --pathspec-from-file <file>\n",
            "                          read pathspec from file\n",
            "    --pathspec-file-nul   with --pathspec-from-file, pathspec elements are separated with NUL character\n",
            "\n",
            "On branch main\n",
            "Your branch is ahead of 'origin/main' by 2 commits.\n",
            "  (use \"git push\" to publish your local commits)\n",
            "\n",
            "Changes not staged for commit:\n",
            "  (use \"git add <file>...\" to update what will be committed)\n",
            "  (use \"git restore <file>...\" to discard changes in working directory)\n",
            "  (commit or discard the untracked or modified content in submodules)\n",
            "\t\u001b[31mmodified:   Project9_data\u001b[m (modified content)\n",
            "\n",
            "no changes added to commit (use \"git add\" and/or \"git commit -a\")\n",
            "fatal: could not read Username for 'https://github.com': No such device or address\n"
          ]
        }
      ]
    },
    {
      "cell_type": "code",
      "source": [
        "!git rm --cached Project9_data"
      ],
      "metadata": {
        "id": "cz3aD7ozjplr",
        "outputId": "fb3d64f7-aaad-4a7a-d98d-00766f89d8a1",
        "colab": {
          "base_uri": "https://localhost:8080/"
        }
      },
      "execution_count": 55,
      "outputs": [
        {
          "output_type": "stream",
          "name": "stdout",
          "text": [
            "rm 'Project9_data'\n"
          ]
        }
      ]
    }
  ]
}